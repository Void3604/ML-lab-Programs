{
  "nbformat": 4,
  "nbformat_minor": 0,
  "metadata": {
    "colab": {
      "provenance": [],
      "mount_file_id": "1mYJBEhBs0gCU8qMPYN3NcY83-m2mGEwr",
      "authorship_tag": "ABX9TyPAvXDI/mlLDkcERwmCFN/c",
      "include_colab_link": true
    },
    "kernelspec": {
      "name": "python3",
      "display_name": "Python 3"
    },
    "language_info": {
      "name": "python"
    }
  },
  "cells": [
    {
      "cell_type": "markdown",
      "metadata": {
        "id": "view-in-github",
        "colab_type": "text"
      },
      "source": [
        "<a href=\"https://colab.research.google.com/github/Void3604/MLlab/blob/main/Q7.ipynb\" target=\"_parent\"><img src=\"https://colab.research.google.com/assets/colab-badge.svg\" alt=\"Open In Colab\"/></a>"
      ]
    },
    {
      "cell_type": "code",
      "source": [
        "import pandas as pd\n",
        "from sklearn.feature_extraction.text import CountVectorizer\n",
        "from sklearn.model_selection import train_test_split\n",
        "from sklearn.naive_bayes import MultinomialNB\n",
        "from sklearn.metrics import accuracy_score, recall_score, precision_score, confusion_matrix\n",
        "\n",
        "data = [\n",
        "    (\"I love this sandwich\", \"pos\"),\n",
        "    (\"This is an amazing place\", \"pos\"),\n",
        "    (\"I feel very good about these cheese\", \"pos\"),\n",
        "    (\"This is my best work\", \"pos\"),\n",
        "    (\"What an awesome view\", \"pos\"),\n",
        "    (\"I do not like this restaurant\", \"neg\"),\n",
        "    (\"I am tired of this stuff\", \"neg\"),\n",
        "    (\"I can’t deal with this\", \"neg\"),\n",
        "    (\"He is my sworn enemy\", \"neg\"),\n",
        "    (\"My boss is horrible\", \"neg\"),\n",
        "    (\"This is an awesome place\", \"pos\"),\n",
        "    (\"I do not like the taste of this juice\", \"neg\"),\n",
        "    (\"I love to dance\", \"pos\"),\n",
        "    (\"I am sick and tired of this place\", \"neg\"),\n",
        "    (\"What a great holiday\", \"pos\"),\n",
        "    (\"That is a bad locality to stay\", \"neg\"),\n",
        "    (\"We will have good fun tomorrow\", \"pos\"),\n",
        "    (\"I went to my enemy's house today\", \"neg\")\n",
        "]\n",
        "\n",
        "df = pd.DataFrame(data, columns=[\"Text\", \"Class\"])\n",
        "\n",
        "X = df['Text']\n",
        "y = df['Class']\n",
        "\n",
        "vectorizer = CountVectorizer()\n",
        "X_vectorized = vectorizer.fit_transform(X)\n",
        "\n",
        "X_train, X_test, y_train, y_test = train_test_split(X_vectorized, y, test_size=0.3, random_state=42)\n",
        "\n",
        "model = MultinomialNB()\n",
        "model.fit(X_train, y_train)\n",
        "\n",
        "y_pred = model.predict(X_test)\n",
        "\n",
        "total_instances = len(df)\n",
        "\n",
        "accuracy = accuracy_score(y_test, y_pred)\n",
        "precision = precision_score(y_test, y_pred, pos_label='pos', average='binary')\n",
        "recall = recall_score(y_test, y_pred, pos_label='pos', average='binary')\n",
        "conf_matrix = confusion_matrix(y_test, y_pred)\n",
        "\n",
        "print(f\"Total Instances of Dataset: {total_instances}\")\n",
        "print(f\"Accuracy: {accuracy}\")\n",
        "print(f\"Precision: {precision}\")\n",
        "print(f\"Recall: {recall}\")\n",
        "print(f\"Confusion Matrix:\\n{conf_matrix}\")\n"
      ],
      "metadata": {
        "colab": {
          "base_uri": "https://localhost:8080/"
        },
        "id": "ocTl0vCQxzOA",
        "outputId": "c6d17297-5b88-46d7-be4a-8c4cf45bb299"
      },
      "execution_count": 52,
      "outputs": [
        {
          "output_type": "stream",
          "name": "stdout",
          "text": [
            "Total Instances of Dataset: 18\n",
            "Accuracy: 0.8333333333333334\n",
            "Precision: 1.0\n",
            "Recall: 0.6666666666666666\n",
            "Confusion Matrix:\n",
            "[[3 0]\n",
            " [1 2]]\n"
          ]
        }
      ]
    }
  ]
}