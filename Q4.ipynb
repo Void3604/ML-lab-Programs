{
  "nbformat": 4,
  "nbformat_minor": 0,
  "metadata": {
    "colab": {
      "provenance": [],
      "mount_file_id": "1mYJBEhBs0gCU8qMPYN3NcY83-m2mGEwr",
      "authorship_tag": "ABX9TyOUQkYy6zMzH0Y03OBhBqFd",
      "include_colab_link": true
    },
    "kernelspec": {
      "name": "python3",
      "display_name": "Python 3"
    },
    "language_info": {
      "name": "python"
    }
  },
  "cells": [
    {
      "cell_type": "markdown",
      "metadata": {
        "id": "view-in-github",
        "colab_type": "text"
      },
      "source": [
        "<a href=\"https://colab.research.google.com/github/Void3604/MLlab/blob/main/Q4.ipynb\" target=\"_parent\"><img src=\"https://colab.research.google.com/assets/colab-badge.svg\" alt=\"Open In Colab\"/></a>"
      ]
    },
    {
      "cell_type": "code",
      "source": [
        "import pandas as pd\n",
        "\n",
        "# Function to implement the FIND-S algorithm\n",
        "def find_s(training_data):\n",
        "    # Find the first positive sample\n",
        "    positive_sample = training_data[training_data['EnjoySport'] == 1].iloc[0]\n",
        "\n",
        "    # Initialize the hypothesis with the first positive sample\n",
        "    hypothesis = positive_sample.drop('EnjoySport').values.tolist()\n",
        "\n",
        "    # Loop through the positive samples and generalize the hypothesis if needed\n",
        "    for index, row in training_data[training_data['EnjoySport'] == 1].iterrows():\n",
        "        for i in range(len(hypothesis)):\n",
        "            # If the attribute value is not equal, generalize the hypothesis\n",
        "            if hypothesis[i] != row.iloc[i]:\n",
        "                hypothesis[i] = '?'\n",
        "\n",
        "    return hypothesis\n",
        "\n",
        "# Load the training data from a CSV file\n",
        "file_path = \"/content/drive/MyDrive/enjoysport.csv\"\n",
        "df = pd.read_csv(file_path)\n",
        "print(df)\n",
        "\n",
        "# Apply FIND-S algorithm\n",
        "hypothesis = find_s(df)\n",
        "\n",
        "# Display the resulting hypothesis\n",
        "print(\"The most specific hypothesis:\", hypothesis)\n"
      ],
      "metadata": {
        "colab": {
          "base_uri": "https://localhost:8080/"
        },
        "id": "tB2MU6TivPug",
        "outputId": "7fc8506a-e1cb-4385-8421-6097dfd3d137"
      },
      "execution_count": 32,
      "outputs": [
        {
          "output_type": "stream",
          "name": "stdout",
          "text": [
            "     Sky AirTemp Humidity    Wind Water Forecast  EnjoySport\n",
            "0  Sunny    Warm   Normal  Strong  Warm     Same           1\n",
            "1  Sunny    Warm     High  Strong  Warm     Same           1\n",
            "2  Rainy    Cold     High  Strong  Warm   Change           0\n",
            "3  Sunny    Warm     High  Strong  Cool   Change           1\n",
            "The most specific hypothesis: ['Sunny', 'Warm', '?', 'Strong', '?', '?']\n"
          ]
        }
      ]
    }
  ]
}