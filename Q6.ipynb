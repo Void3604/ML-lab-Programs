{
  "nbformat": 4,
  "nbformat_minor": 0,
  "metadata": {
    "colab": {
      "provenance": [],
      "mount_file_id": "1mYJBEhBs0gCU8qMPYN3NcY83-m2mGEwr",
      "authorship_tag": "ABX9TyOBnVpnFxq8Aq5yfnuLCxQ/",
      "include_colab_link": true
    },
    "kernelspec": {
      "name": "python3",
      "display_name": "Python 3"
    },
    "language_info": {
      "name": "python"
    }
  },
  "cells": [
    {
      "cell_type": "markdown",
      "metadata": {
        "id": "view-in-github",
        "colab_type": "text"
      },
      "source": [
        "<a href=\"https://colab.research.google.com/github/Void3604/MLlab/blob/main/Q6.ipynb\" target=\"_parent\"><img src=\"https://colab.research.google.com/assets/colab-badge.svg\" alt=\"Open In Colab\"/></a>"
      ]
    },
    {
      "cell_type": "code",
      "source": [
        "import pandas as pd\n",
        "import math\n",
        "\n",
        "file_path = \"/content/drive/MyDrive/PlayTennis.csv\"\n",
        "df = pd.read_csv(file_path)\n",
        "\n",
        "def calculate_entropy(data):\n",
        "    label_counts = data['play'].value_counts()\n",
        "    total = len(data)\n",
        "    entropy = 0\n",
        "    for count in label_counts:\n",
        "        prob = count / total\n",
        "        entropy -= prob * math.log2(prob)\n",
        "    return entropy\n",
        "\n",
        "def calculate_information_gain(data, attribute):\n",
        "    total_entropy = calculate_entropy(data)\n",
        "    attribute_values = data[attribute].unique()\n",
        "    weighted_entropy = 0\n",
        "    for value in attribute_values:\n",
        "        subset = data[data[attribute] == value]\n",
        "        weighted_entropy += (len(subset) / len(data)) * calculate_entropy(subset)\n",
        "    info_gain = total_entropy - weighted_entropy\n",
        "    return info_gain\n",
        "\n",
        "def id3(data, attributes):\n",
        "    if len(data['play'].unique()) == 1:\n",
        "        return data['play'].iloc[0]\n",
        "    if len(attributes) == 0:\n",
        "        return data['play'].mode()[0]\n",
        "\n",
        "    best_attribute = max(attributes, key=lambda attribute: calculate_information_gain(data, attribute))\n",
        "    tree = {best_attribute: {}}\n",
        "\n",
        "    for value in data[best_attribute].unique():\n",
        "        subset = data[data[best_attribute] == value]\n",
        "        subtree = id3(subset, [attribute for attribute in attributes if attribute != best_attribute])\n",
        "        tree[best_attribute][value] = subtree\n",
        "\n",
        "    return tree\n",
        "\n",
        "def classify(tree, sample):\n",
        "    if isinstance(tree, str):\n",
        "        return tree\n",
        "    attribute = list(tree.keys())[0]\n",
        "    value = sample[attribute]\n",
        "    return classify(tree[attribute][value], sample)\n",
        "\n",
        "attributes = df.columns[:-1]\n",
        "tree = id3(df, attributes)\n",
        "\n",
        "sample = {'outlook': 'sunny', 'temp': 'mild', 'humidity': 'high', 'windy': False}\n",
        "prediction = classify(tree, sample)\n",
        "\n",
        "print(\"Decision Tree:\")\n",
        "print(tree)\n",
        "\n",
        "print(\"\\nPrediction for the sample:\")\n",
        "print(prediction)\n"
      ],
      "metadata": {
        "colab": {
          "base_uri": "https://localhost:8080/"
        },
        "id": "ocTl0vCQxzOA",
        "outputId": "8a44fe91-9f55-423b-c322-6f4ef8f6f984"
      },
      "execution_count": 51,
      "outputs": [
        {
          "output_type": "stream",
          "name": "stdout",
          "text": [
            "Decision Tree:\n",
            "{'outlook': {'sunny': {'humidity': {'high': 'no', 'normal': 'yes'}}, 'overcast': 'yes', 'rainy': {'windy': {False: 'yes', True: 'no'}}}}\n",
            "\n",
            "Prediction for the sample:\n",
            "no\n"
          ]
        }
      ]
    }
  ]
}