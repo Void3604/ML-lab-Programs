{
  "nbformat": 4,
  "nbformat_minor": 0,
  "metadata": {
    "colab": {
      "provenance": [],
      "mount_file_id": "1mYJBEhBs0gCU8qMPYN3NcY83-m2mGEwr",
      "authorship_tag": "ABX9TyN6H1dN5UBKEGk5c7uO9j6V",
      "include_colab_link": true
    },
    "kernelspec": {
      "name": "python3",
      "display_name": "Python 3"
    },
    "language_info": {
      "name": "python"
    }
  },
  "cells": [
    {
      "cell_type": "markdown",
      "metadata": {
        "id": "view-in-github",
        "colab_type": "text"
      },
      "source": [
        "<a href=\"https://colab.research.google.com/github/Void3604/MLlab/blob/main/Q5.ipynb\" target=\"_parent\"><img src=\"https://colab.research.google.com/assets/colab-badge.svg\" alt=\"Open In Colab\"/></a>"
      ]
    },
    {
      "cell_type": "code",
      "source": [
        "import pandas as pd\n",
        "\n",
        "file_path = \"/content/drive/MyDrive/PlayTennis.csv\"\n",
        "df = pd.read_csv(file_path)\n",
        "\n",
        "print(\"Dataset:\")\n",
        "print(df)\n",
        "\n",
        "def candidate_elimination_algorithm(df):\n",
        "    specific_hypothesis = [None] * (df.shape[1] - 1)\n",
        "    general_hypothesis = [['?' for _ in range(df.shape[1] - 1)] for _ in range(df.shape[1] - 1)]\n",
        "\n",
        "    for index, row in df.iterrows():\n",
        "        attributes = row[:-1].values\n",
        "        label = row.iloc[-1]\n",
        "\n",
        "        if label == 'yes':\n",
        "            for i in range(len(specific_hypothesis)):\n",
        "                if specific_hypothesis[i] is None:\n",
        "                    specific_hypothesis[i] = attributes[i]\n",
        "                elif specific_hypothesis[i] != attributes[i]:\n",
        "                    specific_hypothesis[i] = '?'\n",
        "\n",
        "            general_hypothesis = [gh for gh in general_hypothesis if all(gh[i] == '?' or gh[i] == attributes[i] for i in range(len(gh)))]\n",
        "\n",
        "        elif label == 'no':\n",
        "            general_hypothesis = [gh for gh in general_hypothesis if not all(gh[i] == '?' or gh[i] == attributes[i] for i in range(len(gh)))]\n",
        "\n",
        "    return specific_hypothesis, general_hypothesis\n",
        "\n",
        "specific_hypothesis, general_hypothesis = candidate_elimination_algorithm(df)\n",
        "\n",
        "print(\"\\nFinal Specific Hypothesis:\")\n",
        "print(specific_hypothesis)\n",
        "\n",
        "print(\"\\nFinal General Hypothesis:\")\n",
        "for gh in general_hypothesis:\n",
        "    print(gh)\n"
      ],
      "metadata": {
        "colab": {
          "base_uri": "https://localhost:8080/"
        },
        "id": "ocTl0vCQxzOA",
        "outputId": "6e03bcb4-44c5-4a95-8d21-c63697e5f306"
      },
      "execution_count": 47,
      "outputs": [
        {
          "output_type": "stream",
          "name": "stdout",
          "text": [
            "Dataset:\n",
            "     outlook  temp humidity  windy play\n",
            "0      sunny   hot     high  False   no\n",
            "1      sunny   hot     high   True   no\n",
            "2   overcast   hot     high  False  yes\n",
            "3      rainy  mild     high  False  yes\n",
            "4      rainy  cool   normal  False  yes\n",
            "5      rainy  cool   normal   True   no\n",
            "6   overcast  cool   normal   True  yes\n",
            "7      sunny  mild     high  False   no\n",
            "8      sunny  cool   normal  False  yes\n",
            "9      rainy  mild   normal  False  yes\n",
            "10     sunny  mild   normal   True  yes\n",
            "11  overcast  mild     high   True  yes\n",
            "12  overcast   hot   normal  False  yes\n",
            "13     rainy  mild     high   True   no\n",
            "\n",
            "Final Specific Hypothesis:\n",
            "['?', '?', '?', '?']\n",
            "\n",
            "Final General Hypothesis:\n"
          ]
        }
      ]
    }
  ]
}